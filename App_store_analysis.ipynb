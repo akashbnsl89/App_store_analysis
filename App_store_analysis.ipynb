{
  "nbformat": 4,
  "nbformat_minor": 0,
  "metadata": {
    "colab": {
      "name": "App store analysis.ipynb",
      "provenance": [],
      "collapsed_sections": []
    },
    "kernelspec": {
      "name": "python3",
      "display_name": "Python 3"
    },
    "language_info": {
      "name": "python"
    }
  },
  "cells": [
    {
      "cell_type": "code",
      "metadata": {
        "id": "Rj9lLf_pBoFX"
      },
      "source": [
        "import pandas as pd\n",
        "import numpy as np\n",
        "import matplotlib.pyplot as plt"
      ],
      "execution_count": 1,
      "outputs": []
    },
    {
      "cell_type": "code",
      "metadata": {
        "id": "KKJ44swwCkKK"
      },
      "source": [
        "from csv import reader"
      ],
      "execution_count": 2,
      "outputs": []
    },
    {
      "cell_type": "code",
      "metadata": {
        "id": "JUcv8T4ACbkK"
      },
      "source": [
        "opened_file_apple = open('/AppleStore.csv')"
      ],
      "execution_count": 3,
      "outputs": []
    },
    {
      "cell_type": "code",
      "metadata": {
        "id": "Qy3KjmHBDi8R"
      },
      "source": [
        "read_file_apple = reader(opened_file_apple)"
      ],
      "execution_count": 4,
      "outputs": []
    },
    {
      "cell_type": "code",
      "metadata": {
        "id": "kZZROVKYDt21"
      },
      "source": [
        "list1 = list(read_file_apple)"
      ],
      "execution_count": 5,
      "outputs": []
    },
    {
      "cell_type": "code",
      "metadata": {
        "id": "Ehe5bzr0D5T7"
      },
      "source": [
        "ios_apps_header = list1[0]"
      ],
      "execution_count": 6,
      "outputs": []
    },
    {
      "cell_type": "code",
      "metadata": {
        "colab": {
          "base_uri": "https://localhost:8080/",
          "height": 35
        },
        "id": "bvOlRkqaEB1w",
        "outputId": "09eee138-5975-43b0-abdd-614b369c2037"
      },
      "source": [
        "ios_apps_header[0]"
      ],
      "execution_count": 7,
      "outputs": [
        {
          "output_type": "execute_result",
          "data": {
            "application/vnd.google.colaboratory.intrinsic+json": {
              "type": "string"
            },
            "text/plain": [
              "''"
            ]
          },
          "metadata": {
            "tags": []
          },
          "execution_count": 7
        }
      ]
    },
    {
      "cell_type": "code",
      "metadata": {
        "id": "K9fPrp7QELzg"
      },
      "source": [
        "ios_apps = list1[1:]"
      ],
      "execution_count": 8,
      "outputs": []
    },
    {
      "cell_type": "code",
      "metadata": {
        "id": "vmCJnn9iEg-3"
      },
      "source": [
        "# opening google apps dataset\n",
        "opened_file_google = open('/googleplaystore.csv')\n",
        "read_file_google = reader(opened_file_google)\n",
        "list2 = list(read_file_google)\n",
        "google_apps_header = list2[0]\n",
        "google_apps = list2[1:]"
      ],
      "execution_count": 9,
      "outputs": []
    },
    {
      "cell_type": "code",
      "metadata": {
        "id": "SDlPbOA-Fch6"
      },
      "source": [
        "def explore_data(dataset, start, end, rows_and_columns = False):\n",
        "  dataset_slice = dataset[start:end]\n",
        "  for row in dataset_slice:\n",
        "    print(row)\n",
        "    print('\\n')\n",
        "  \n",
        "  if rows_and_columns:\n",
        "    print('Number of rows:', len(dataset))\n",
        "    print('Number of columns:', len(dataset[0]))"
      ],
      "execution_count": 10,
      "outputs": []
    },
    {
      "cell_type": "code",
      "metadata": {
        "colab": {
          "base_uri": "https://localhost:8080/"
        },
        "id": "-eUQYsLdGJlq",
        "outputId": "403ffc0c-f2ac-4791-f628-5ae5e5a84e39"
      },
      "source": [
        "print(ios_apps_header)\n",
        "print('\\n')\n",
        "explore_data(ios_apps,0,5,True)"
      ],
      "execution_count": 11,
      "outputs": [
        {
          "output_type": "stream",
          "text": [
            "['', 'id', 'track_name', 'size_bytes', 'currency', 'price', 'rating_count_tot', 'rating_count_ver', 'user_rating', 'user_rating_ver', 'ver', 'cont_rating', 'prime_genre', 'sup_devices.num', 'ipadSc_urls.num', 'lang.num', 'vpp_lic']\n",
            "\n",
            "\n",
            "['1', '281656475', 'PAC-MAN Premium', '100788224', 'USD', '3.99', '21292', '26', '4', '4.5', '6.3.5', '4+', 'Games', '38', '5', '10', '1']\n",
            "\n",
            "\n",
            "['2', '281796108', 'Evernote - stay organized', '158578688', 'USD', '0', '161065', '26', '4', '3.5', '8.2.2', '4+', 'Productivity', '37', '5', '23', '1']\n",
            "\n",
            "\n",
            "['3', '281940292', 'WeatherBug - Local Weather, Radar, Maps, Alerts', '100524032', 'USD', '0', '188583', '2822', '3.5', '4.5', '5.0.0', '4+', 'Weather', '37', '5', '3', '1']\n",
            "\n",
            "\n",
            "['4', '282614216', 'eBay: Best App to Buy, Sell, Save! Online Shopping', '128512000', 'USD', '0', '262241', '649', '4', '4.5', '5.10.0', '12+', 'Shopping', '37', '5', '9', '1']\n",
            "\n",
            "\n",
            "['5', '282935706', 'Bible', '92774400', 'USD', '0', '985920', '5320', '4.5', '5', '7.5.1', '4+', 'Reference', '37', '5', '45', '1']\n",
            "\n",
            "\n",
            "Number of rows: 7197\n",
            "Number of columns: 17\n"
          ],
          "name": "stdout"
        }
      ]
    },
    {
      "cell_type": "code",
      "metadata": {
        "id": "7hp-HcG9HxVm"
      },
      "source": [
        "del ios_apps_header[0]"
      ],
      "execution_count": 12,
      "outputs": []
    },
    {
      "cell_type": "code",
      "metadata": {
        "id": "WYIsMfFbIF_H"
      },
      "source": [
        "for row in ios_apps:\n",
        "  del row[0]"
      ],
      "execution_count": 13,
      "outputs": []
    },
    {
      "cell_type": "code",
      "metadata": {
        "colab": {
          "base_uri": "https://localhost:8080/"
        },
        "id": "oZvhuTisJ_d-",
        "outputId": "91c70be6-d97c-41bf-c480-634bfcfc70dc"
      },
      "source": [
        "print(google_apps_header)\n",
        "print('\\n')\n",
        "explore_data(google_apps, 0, 5, True)"
      ],
      "execution_count": 14,
      "outputs": [
        {
          "output_type": "stream",
          "text": [
            "['App', 'Category', 'Rating', 'Reviews', 'Size', 'Installs', 'Type', 'Price', 'Content Rating', 'Genres', 'Last Updated', 'Current Ver', 'Android Ver']\n",
            "\n",
            "\n",
            "['Photo Editor & Candy Camera & Grid & ScrapBook', 'ART_AND_DESIGN', '4.1', '159', '19M', '10,000+', 'Free', '0', 'Everyone', 'Art & Design', 'January 7, 2018', '1.0.0', '4.0.3 and up']\n",
            "\n",
            "\n",
            "['Coloring book moana', 'ART_AND_DESIGN', '3.9', '967', '14M', '500,000+', 'Free', '0', 'Everyone', 'Art & Design;Pretend Play', 'January 15, 2018', '2.0.0', '4.0.3 and up']\n",
            "\n",
            "\n",
            "['U Launcher Lite – FREE Live Cool Themes, Hide Apps', 'ART_AND_DESIGN', '4.7', '87510', '8.7M', '5,000,000+', 'Free', '0', 'Everyone', 'Art & Design', 'August 1, 2018', '1.2.4', '4.0.3 and up']\n",
            "\n",
            "\n",
            "['Sketch - Draw & Paint', 'ART_AND_DESIGN', '4.5', '215644', '25M', '50,000,000+', 'Free', '0', 'Teen', 'Art & Design', 'June 8, 2018', 'Varies with device', '4.2 and up']\n",
            "\n",
            "\n",
            "['Pixel Draw - Number Art Coloring Book', 'ART_AND_DESIGN', '4.3', '967', '2.8M', '100,000+', 'Free', '0', 'Everyone', 'Art & Design;Creativity', 'June 20, 2018', '1.1', '4.4 and up']\n",
            "\n",
            "\n",
            "Number of rows: 10841\n",
            "Number of columns: 13\n"
          ],
          "name": "stdout"
        }
      ]
    },
    {
      "cell_type": "code",
      "metadata": {
        "id": "k8AicMKAKZnX"
      },
      "source": [
        "del google_apps[10472]"
      ],
      "execution_count": 15,
      "outputs": []
    },
    {
      "cell_type": "code",
      "metadata": {
        "id": "7SeAP2TuL4BR"
      },
      "source": [
        "counter = -1\n",
        "for row in google_apps:\n",
        "  counter += 1\n",
        "  if len(row)<13:\n",
        "    print(counter)"
      ],
      "execution_count": 16,
      "outputs": []
    },
    {
      "cell_type": "code",
      "metadata": {
        "id": "LFBWpAWWMW5x"
      },
      "source": [
        "duplicate_apps = []\n",
        "unique_apps = []\n",
        "for row in google_apps:\n",
        "  name = row[0]\n",
        "  if name in unique_apps:\n",
        "    duplicate_apps.append(row)\n",
        "  else:\n",
        "    unique_apps.append(name)"
      ],
      "execution_count": 17,
      "outputs": []
    },
    {
      "cell_type": "code",
      "metadata": {
        "colab": {
          "base_uri": "https://localhost:8080/"
        },
        "id": "Qyf_zCV8RpwQ",
        "outputId": "6aa6e170-faaa-443f-fcdd-c41c75ce1785"
      },
      "source": [
        "for row in duplicate_apps:\n",
        "  if row[0] == 'Subway Surfers':\n",
        "    print(row)\n",
        "    print('\\n')\n",
        "print('The number of duplicate apps is', len(duplicate_apps))  "
      ],
      "execution_count": 18,
      "outputs": [
        {
          "output_type": "stream",
          "text": [
            "['Subway Surfers', 'GAME', '4.5', '27723193', '76M', '1,000,000,000+', 'Free', '0', 'Everyone 10+', 'Arcade', 'July 12, 2018', '1.90.0', '4.1 and up']\n",
            "\n",
            "\n",
            "['Subway Surfers', 'GAME', '4.5', '27724094', '76M', '1,000,000,000+', 'Free', '0', 'Everyone 10+', 'Arcade', 'July 12, 2018', '1.90.0', '4.1 and up']\n",
            "\n",
            "\n",
            "['Subway Surfers', 'GAME', '4.5', '27725352', '76M', '1,000,000,000+', 'Free', '0', 'Everyone 10+', 'Arcade', 'July 12, 2018', '1.90.0', '4.1 and up']\n",
            "\n",
            "\n",
            "['Subway Surfers', 'GAME', '4.5', '27725352', '76M', '1,000,000,000+', 'Free', '0', 'Everyone 10+', 'Arcade', 'July 12, 2018', '1.90.0', '4.1 and up']\n",
            "\n",
            "\n",
            "['Subway Surfers', 'GAME', '4.5', '27711703', '76M', '1,000,000,000+', 'Free', '0', 'Everyone 10+', 'Arcade', 'July 12, 2018', '1.90.0', '4.1 and up']\n",
            "\n",
            "\n",
            "The number of duplicate apps is 1181\n"
          ],
          "name": "stdout"
        }
      ]
    },
    {
      "cell_type": "code",
      "metadata": {
        "colab": {
          "base_uri": "https://localhost:8080/"
        },
        "id": "5P2srxjPQIrc",
        "outputId": "bf1fefbc-e7cd-4ec5-b75c-d1f655853a7f"
      },
      "source": [
        "reviews_max = {}\n",
        "for row in google_apps:\n",
        "  name = row[0]\n",
        "  n_reviews = float(row[3])\n",
        "  if name in reviews_max and reviews_max[name] < n_reviews:\n",
        "    reviews_max[name] = n_reviews\n",
        "  elif name not in reviews_max:\n",
        "    reviews_max[name] = n_reviews\n",
        "\n",
        "print('expected entries', len(google_apps) - 1181, 'actual entries', len(reviews_max))"
      ],
      "execution_count": 19,
      "outputs": [
        {
          "output_type": "stream",
          "text": [
            "expected entries 9659 actual entries 9659\n"
          ],
          "name": "stdout"
        }
      ]
    },
    {
      "cell_type": "code",
      "metadata": {
        "colab": {
          "base_uri": "https://localhost:8080/"
        },
        "id": "U1xC5RxNd3f3",
        "outputId": "e0a7b8be-66c6-4dff-8508-1b7b0c318ca3"
      },
      "source": [
        "android_clean = []\n",
        "already_added = []\n",
        "for row in google_apps:\n",
        "  name = row[0]\n",
        "  n_reviews = float(row[3])\n",
        "  if reviews_max[name] == n_reviews and name not in already_added:\n",
        "    android_clean.append(row)\n",
        "    already_added.append(name)\n",
        "print('Expected length of android_clean', 9659, '\\n', 'Actual length of android_clean', len(android_clean))"
      ],
      "execution_count": 20,
      "outputs": [
        {
          "output_type": "stream",
          "text": [
            "Expected length of android_clean 9659 \n",
            " Actual length of android_clean 9659\n"
          ],
          "name": "stdout"
        }
      ]
    },
    {
      "cell_type": "code",
      "metadata": {
        "colab": {
          "base_uri": "https://localhost:8080/"
        },
        "id": "tMwiNIf4ofJ2",
        "outputId": "ac01196b-6d3a-43c5-9d8c-84336fc803f4"
      },
      "source": [
        "def eng_char_or_not(string):\n",
        "    for char in string:\n",
        "        if ord(char) > 127:\n",
        "            return False\n",
        "    return True\n",
        "print(eng_char_or_not('爱奇艺PPS -《欢乐颂2》电视剧热播'))\n",
        "print(eng_char_or_not('Instagram'))\n",
        "print(eng_char_or_not('Docs To Go™ Free Office Suite'))\n",
        "print(eng_char_or_not('Instachat 😜'))"
      ],
      "execution_count": 21,
      "outputs": [
        {
          "output_type": "stream",
          "text": [
            "False\n",
            "True\n",
            "False\n",
            "False\n"
          ],
          "name": "stdout"
        }
      ]
    },
    {
      "cell_type": "code",
      "metadata": {
        "colab": {
          "base_uri": "https://localhost:8080/"
        },
        "id": "2MDK2C2WopOf",
        "outputId": "4071b261-73af-4fd6-fecd-a233d6bd949a"
      },
      "source": [
        "print(ord('™'))\n",
        "print(ord('😜'))"
      ],
      "execution_count": 22,
      "outputs": [
        {
          "output_type": "stream",
          "text": [
            "8482\n",
            "128540\n"
          ],
          "name": "stdout"
        }
      ]
    },
    {
      "cell_type": "code",
      "metadata": {
        "colab": {
          "base_uri": "https://localhost:8080/"
        },
        "id": "XBNNrFaro5cH",
        "outputId": "f29dd188-1fd0-4bd1-dbcb-c277b0c36468"
      },
      "source": [
        "def eng_char_or_not(string):\n",
        "  count = 0\n",
        "  for char in string:\n",
        "    if ord(char) > 127:\n",
        "      count += 1\n",
        "  if count > 3:\n",
        "    return False\n",
        "  return True\n",
        "print(eng_char_or_not('Docs To Go™ Free Office Suite'))\n",
        "print(eng_char_or_not('Instachat 😜'))\n",
        "print(eng_char_or_not('爱奇艺PPS -《欢乐颂2》电视剧热播'))"
      ],
      "execution_count": 23,
      "outputs": [
        {
          "output_type": "stream",
          "text": [
            "True\n",
            "True\n",
            "False\n"
          ],
          "name": "stdout"
        }
      ]
    },
    {
      "cell_type": "code",
      "metadata": {
        "colab": {
          "base_uri": "https://localhost:8080/"
        },
        "id": "Yyc8YbMRGYfs",
        "outputId": "72a096a9-ed85-462a-c1e1-2431f52c908a"
      },
      "source": [
        "android_clean[0]"
      ],
      "execution_count": 24,
      "outputs": [
        {
          "output_type": "execute_result",
          "data": {
            "text/plain": [
              "['Photo Editor & Candy Camera & Grid & ScrapBook',\n",
              " 'ART_AND_DESIGN',\n",
              " '4.1',\n",
              " '159',\n",
              " '19M',\n",
              " '10,000+',\n",
              " 'Free',\n",
              " '0',\n",
              " 'Everyone',\n",
              " 'Art & Design',\n",
              " 'January 7, 2018',\n",
              " '1.0.0',\n",
              " '4.0.3 and up']"
            ]
          },
          "metadata": {
            "tags": []
          },
          "execution_count": 24
        }
      ]
    },
    {
      "cell_type": "code",
      "metadata": {
        "colab": {
          "base_uri": "https://localhost:8080/"
        },
        "id": "eEFMduDxqA1I",
        "outputId": "9a08c26e-20b7-42e5-a57c-52ced078c209"
      },
      "source": [
        "ios_english_apps = []\n",
        "google_english_apps = []\n",
        "# separating english apps from ios dataset\n",
        "for row in ios_apps:\n",
        "  name = row[1]\n",
        "  if eng_char_or_not(name):\n",
        "    ios_english_apps.append(row)\n",
        "# Separating english apps from google apps dataset\n",
        "for row in android_clean:\n",
        "  name = row[0]\n",
        "  if eng_char_or_not(name):\n",
        "    google_english_apps.append(row)\n",
        "print(explore_data(ios_english_apps, 0, 3, True))\n",
        "print('\\n')\n",
        "print(explore_data(google_english_apps, 0, 3, True))"
      ],
      "execution_count": 25,
      "outputs": [
        {
          "output_type": "stream",
          "text": [
            "['281656475', 'PAC-MAN Premium', '100788224', 'USD', '3.99', '21292', '26', '4', '4.5', '6.3.5', '4+', 'Games', '38', '5', '10', '1']\n",
            "\n",
            "\n",
            "['281796108', 'Evernote - stay organized', '158578688', 'USD', '0', '161065', '26', '4', '3.5', '8.2.2', '4+', 'Productivity', '37', '5', '23', '1']\n",
            "\n",
            "\n",
            "['281940292', 'WeatherBug - Local Weather, Radar, Maps, Alerts', '100524032', 'USD', '0', '188583', '2822', '3.5', '4.5', '5.0.0', '4+', 'Weather', '37', '5', '3', '1']\n",
            "\n",
            "\n",
            "Number of rows: 6183\n",
            "Number of columns: 16\n",
            "None\n",
            "\n",
            "\n",
            "['Photo Editor & Candy Camera & Grid & ScrapBook', 'ART_AND_DESIGN', '4.1', '159', '19M', '10,000+', 'Free', '0', 'Everyone', 'Art & Design', 'January 7, 2018', '1.0.0', '4.0.3 and up']\n",
            "\n",
            "\n",
            "['U Launcher Lite – FREE Live Cool Themes, Hide Apps', 'ART_AND_DESIGN', '4.7', '87510', '8.7M', '5,000,000+', 'Free', '0', 'Everyone', 'Art & Design', 'August 1, 2018', '1.2.4', '4.0.3 and up']\n",
            "\n",
            "\n",
            "['Sketch - Draw & Paint', 'ART_AND_DESIGN', '4.5', '215644', '25M', '50,000,000+', 'Free', '0', 'Teen', 'Art & Design', 'June 8, 2018', 'Varies with device', '4.2 and up']\n",
            "\n",
            "\n",
            "Number of rows: 9614\n",
            "Number of columns: 13\n",
            "None\n"
          ],
          "name": "stdout"
        }
      ]
    },
    {
      "cell_type": "code",
      "metadata": {
        "colab": {
          "base_uri": "https://localhost:8080/"
        },
        "id": "AxZ4m0kbHEwZ",
        "outputId": "2526d730-401a-41a3-824d-7c6ba820b6c2"
      },
      "source": [
        "google_english_apps[0]"
      ],
      "execution_count": 26,
      "outputs": [
        {
          "output_type": "execute_result",
          "data": {
            "text/plain": [
              "['Photo Editor & Candy Camera & Grid & ScrapBook',\n",
              " 'ART_AND_DESIGN',\n",
              " '4.1',\n",
              " '159',\n",
              " '19M',\n",
              " '10,000+',\n",
              " 'Free',\n",
              " '0',\n",
              " 'Everyone',\n",
              " 'Art & Design',\n",
              " 'January 7, 2018',\n",
              " '1.0.0',\n",
              " '4.0.3 and up']"
            ]
          },
          "metadata": {
            "tags": []
          },
          "execution_count": 26
        }
      ]
    },
    {
      "cell_type": "code",
      "metadata": {
        "colab": {
          "base_uri": "https://localhost:8080/"
        },
        "id": "PGHYwnNHVbRd",
        "outputId": "ef077519-b717-4951-e45f-5be488807d9a"
      },
      "source": [
        "# Isolating the free ios apps\n",
        "ios_free_english_apps = []\n",
        "google_free_english_apps = []\n",
        "for row in ios_english_apps:\n",
        "  price = row[4]\n",
        "  if price == '0':\n",
        "    ios_free_english_apps.append(row)\n",
        "\n",
        "# Isolating the free android apps\n",
        "for row in google_english_apps:\n",
        "  price = row[7]\n",
        "  if price == '0':\n",
        "    google_free_english_apps.append(row)\n",
        "\n",
        "print(len(ios_free_english_apps))\n",
        "print(len(google_free_english_apps))"
      ],
      "execution_count": 27,
      "outputs": [
        {
          "output_type": "stream",
          "text": [
            "3222\n",
            "8864\n"
          ],
          "name": "stdout"
        }
      ]
    },
    {
      "cell_type": "code",
      "metadata": {
        "colab": {
          "base_uri": "https://localhost:8080/"
        },
        "id": "7MPXxQEgX86z",
        "outputId": "418d2048-da77-4811-da1f-b0546a37f259"
      },
      "source": [
        "for row in google_english_apps:\n",
        "  if row[6] != 'Free' and row[7] == '0':\n",
        "    print(row)"
      ],
      "execution_count": 28,
      "outputs": [
        {
          "output_type": "stream",
          "text": [
            "['Command & Conquer: Rivals', 'FAMILY', 'NaN', '0', 'Varies with device', '0', 'NaN', '0', 'Everyone 10+', 'Strategy', 'June 28, 2018', 'Varies with device', 'Varies with device']\n"
          ],
          "name": "stdout"
        }
      ]
    },
    {
      "cell_type": "code",
      "metadata": {
        "id": "LTmHs1ZjV_pv"
      },
      "source": [
        "for row in google_english_apps:\n",
        "  if row[4] == '0':\n",
        "    print(row)"
      ],
      "execution_count": 29,
      "outputs": []
    },
    {
      "cell_type": "markdown",
      "metadata": {
        "id": "8s5aJ_8LJgty"
      },
      "source": [
        "## Isolating the apps common to both datasets"
      ]
    },
    {
      "cell_type": "code",
      "metadata": {
        "id": "0FpCPjpBJqDE"
      },
      "source": [
        "def freq_table(dataset, index):\n",
        "  frequency_table = {}\n",
        "  for row in dataset:\n",
        "    genre = row[index]\n",
        "    if genre in frequency_table:\n",
        "      frequency_table[genre] += (1/len(dataset)) * 100\n",
        "    else:\n",
        "      frequency_table[genre] = (1/len(dataset)) * 100\n",
        "  return frequency_table"
      ],
      "execution_count": 30,
      "outputs": []
    },
    {
      "cell_type": "code",
      "metadata": {
        "colab": {
          "base_uri": "https://localhost:8080/"
        },
        "id": "nqWu-J81Kfe1",
        "outputId": "418c5570-c088-4283-e121-90d810366a08"
      },
      "source": [
        "freq_table(google_free_english_apps, 5)"
      ],
      "execution_count": 57,
      "outputs": [
        {
          "output_type": "execute_result",
          "data": {
            "text/plain": [
              "{'0': 0.01128158844765343,\n",
              " '0+': 0.04512635379061372,\n",
              " '1+': 0.5076714801444041,\n",
              " '1,000+': 8.393501805054239,\n",
              " '1,000,000+': 15.726534296029072,\n",
              " '1,000,000,000+': 0.22563176895306852,\n",
              " '10+': 3.5424187725631953,\n",
              " '10,000+': 10.198555956678813,\n",
              " '10,000,000+': 10.548285198556075,\n",
              " '100+': 6.915613718411619,\n",
              " '100,000+': 11.552346570397244,\n",
              " '100,000,000+': 2.1322202166064965,\n",
              " '5+': 0.7897111913357411,\n",
              " '5,000+': 4.512635379061404,\n",
              " '5,000,000+': 6.82536101083039,\n",
              " '50+': 1.9178700361010799,\n",
              " '50,000+': 4.772111913357437,\n",
              " '50,000,000+': 2.3014440433213004,\n",
              " '500+': 3.249097472924202,\n",
              " '500,000+': 5.561823104693188,\n",
              " '500,000,000+': 0.2707581227436822}"
            ]
          },
          "metadata": {
            "tags": []
          },
          "execution_count": 57
        }
      ]
    },
    {
      "cell_type": "code",
      "metadata": {
        "id": "4RWMSyqzpTX7"
      },
      "source": [
        "def display_table(dataset, index):\n",
        "  table = freq_table(dataset, index)\n",
        "  table_display = []\n",
        "  for key in table:\n",
        "    key_val_as_tuple = (table[key], key)\n",
        "    table_display.append(key_val_as_tuple)\n",
        "  \n",
        "  table_sorted = sorted(table_display, reverse = True)\n",
        "  for entry in table_sorted:\n",
        "    print(entry[1], \":\", entry[0])\n",
        "  return \"---\""
      ],
      "execution_count": 31,
      "outputs": []
    },
    {
      "cell_type": "code",
      "metadata": {
        "colab": {
          "base_uri": "https://localhost:8080/"
        },
        "id": "7AMAjOags9qG",
        "outputId": "ca46c3ef-ca17-490f-c6c6-41003af1ac07"
      },
      "source": [
        "google_apps_header"
      ],
      "execution_count": 43,
      "outputs": [
        {
          "output_type": "execute_result",
          "data": {
            "text/plain": [
              "['App',\n",
              " 'Category',\n",
              " 'Rating',\n",
              " 'Reviews',\n",
              " 'Size',\n",
              " 'Installs',\n",
              " 'Type',\n",
              " 'Price',\n",
              " 'Content Rating',\n",
              " 'Genres',\n",
              " 'Last Updated',\n",
              " 'Current Ver',\n",
              " 'Android Ver']"
            ]
          },
          "metadata": {
            "tags": []
          },
          "execution_count": 43
        }
      ]
    },
    {
      "cell_type": "code",
      "metadata": {
        "colab": {
          "base_uri": "https://localhost:8080/"
        },
        "id": "ZHPTN2D53Xhq",
        "outputId": "cd554ea4-c75e-44e9-8f2b-6566ab4c7f9c"
      },
      "source": [
        "print(\"Frequency table for prime_genre (from ios_free_english_apps dataset) column\")\n",
        "print('\\n')\n",
        "print(display_table(ios_free_english_apps,11))\n",
        "print('\\n')\n",
        "print(\"Frequency table for Category (from google_free_english_apps dataset) column\")\n",
        "print('\\n')\n",
        "print(display_table(google_free_english_apps,1))\n",
        "print('\\n')\n",
        "print(\"Frequency table for Genres (from google_free_english_apps dataset) column\")\n",
        "print('\\n')\n",
        "print(display_table(google_free_english_apps,9))"
      ],
      "execution_count": 45,
      "outputs": [
        {
          "output_type": "stream",
          "text": [
            "Frequency table for prime_genre (from ios_free_english_apps dataset) column\n",
            "\n",
            "\n",
            "Games : 58.1626319056464\n",
            "Entertainment : 7.883302296710134\n",
            "Photo & Video : 4.965859714463075\n",
            "Education : 3.6623215394165176\n",
            "Social Networking : 3.2898820608317867\n",
            "Shopping : 2.6070763500931133\n",
            "Utilities : 2.5139664804469306\n",
            "Sports : 2.1415270018621997\n",
            "Music : 2.048417132216017\n",
            "Health & Fitness : 2.0173805090006227\n",
            "Productivity : 1.7380509000620747\n",
            "Lifestyle : 1.5828677839851035\n",
            "News : 1.3345747982619496\n",
            "Travel : 1.2414649286157668\n",
            "Finance : 1.1173184357541899\n",
            "Weather : 0.8690254500310364\n",
            "Food & Drink : 0.8069522036002481\n",
            "Reference : 0.558659217877095\n",
            "Business : 0.5276225946617009\n",
            "Book : 0.4345127250155184\n",
            "Navigation : 0.186219739292365\n",
            "Medical : 0.186219739292365\n",
            "Catalogs : 0.12414649286157665\n",
            "---\n",
            "\n",
            "\n",
            "Frequency table for Category (from google_free_english_apps dataset) column\n",
            "\n",
            "\n",
            "FAMILY : 18.907942238266926\n",
            "GAME : 9.724729241877363\n",
            "TOOLS : 8.46119133574016\n",
            "BUSINESS : 4.591606498194979\n",
            "LIFESTYLE : 3.90342960288811\n",
            "PRODUCTIVITY : 3.8921480144404565\n",
            "FINANCE : 3.7003610108303455\n",
            "MEDICAL : 3.5311371841155417\n",
            "SPORTS : 3.3957581227436986\n",
            "PERSONALIZATION : 3.3167870036101235\n",
            "COMMUNICATION : 3.2378158844765483\n",
            "HEALTH_AND_FITNESS : 3.079873646209398\n",
            "PHOTOGRAPHY : 2.944494584837555\n",
            "NEWS_AND_MAGAZINES : 2.7978339350180583\n",
            "SOCIAL : 2.6624548736462152\n",
            "TRAVEL_AND_LOCAL : 2.335288808664261\n",
            "SHOPPING : 2.2450361010830324\n",
            "BOOKS_AND_REFERENCE : 2.14350180505415\n",
            "DATING : 1.861462093862813\n",
            "VIDEO_PLAYERS : 1.7937725631768928\n",
            "MAPS_AND_NAVIGATION : 1.398916967509025\n",
            "FOOD_AND_DRINK : 1.2409747292418778\n",
            "EDUCATION : 1.1620036101083042\n",
            "ENTERTAINMENT : 0.9589350180505433\n",
            "LIBRARIES_AND_DEMO : 0.9363718411552363\n",
            "AUTO_AND_VEHICLES : 0.9250902527075828\n",
            "HOUSE_AND_HOME : 0.8235559566787015\n",
            "WEATHER : 0.8009927797833946\n",
            "EVENTS : 0.7107400722021667\n",
            "PARENTING : 0.6543321299638993\n",
            "ART_AND_DESIGN : 0.6430505415162459\n",
            "COMICS : 0.6204873646209389\n",
            "BEAUTY : 0.5979241877256319\n",
            "---\n",
            "\n",
            "\n",
            "Frequency table for Genres (from google_free_english_apps dataset) column\n",
            "\n",
            "\n",
            "Tools : 8.449909747292507\n",
            "Entertainment : 6.069494584837599\n",
            "Education : 5.34747292418777\n",
            "Business : 4.591606498194979\n",
            "Productivity : 3.8921480144404565\n",
            "Lifestyle : 3.8921480144404565\n",
            "Finance : 3.7003610108303455\n",
            "Medical : 3.5311371841155417\n",
            "Sports : 3.46344765342962\n",
            "Personalization : 3.3167870036101235\n",
            "Communication : 3.2378158844765483\n",
            "Action : 3.1024368231047053\n",
            "Health & Fitness : 3.079873646209398\n",
            "Photography : 2.944494584837555\n",
            "News & Magazines : 2.7978339350180583\n",
            "Social : 2.6624548736462152\n",
            "Travel & Local : 2.3240072202166075\n",
            "Shopping : 2.2450361010830324\n",
            "Books & Reference : 2.14350180505415\n",
            "Simulation : 2.041967509025268\n",
            "Dating : 1.861462093862813\n",
            "Arcade : 1.8501805054151597\n",
            "Video Players & Editors : 1.771209386281586\n",
            "Casual : 1.7599277978339327\n",
            "Maps & Navigation : 1.398916967509025\n",
            "Food & Drink : 1.2409747292418778\n",
            "Puzzle : 1.1281588447653441\n",
            "Racing : 0.9927797833935037\n",
            "Role Playing : 0.9363718411552363\n",
            "Libraries & Demo : 0.9363718411552363\n",
            "Auto & Vehicles : 0.9250902527075828\n",
            "Strategy : 0.9138086642599293\n",
            "House & Home : 0.8235559566787015\n",
            "Weather : 0.8009927797833946\n",
            "Events : 0.7107400722021667\n",
            "Adventure : 0.6768953068592063\n",
            "Comics : 0.6092057761732854\n",
            "Beauty : 0.5979241877256319\n",
            "Art & Design : 0.5979241877256319\n",
            "Parenting : 0.4963898916967507\n",
            "Card : 0.451263537906137\n",
            "Casino : 0.42870036101083014\n",
            "Trivia : 0.4174187725631767\n",
            "Educational;Education : 0.3948555956678699\n",
            "Board : 0.38357400722021645\n",
            "Educational : 0.372292418772563\n",
            "Education;Education : 0.33844765342960276\n",
            "Word : 0.2594765342960288\n",
            "Casual;Pretend Play : 0.23691335740072195\n",
            "Music : 0.20306859205776168\n",
            "Racing;Action & Adventure : 0.1692238267148014\n",
            "Puzzle;Brain Games : 0.1692238267148014\n",
            "Entertainment;Music & Video : 0.1692238267148014\n",
            "Casual;Brain Games : 0.13537906137184114\n",
            "Casual;Action & Adventure : 0.13537906137184114\n",
            "Arcade;Action & Adventure : 0.12409747292418771\n",
            "Action;Action & Adventure : 0.10153429602888087\n",
            "Educational;Pretend Play : 0.09025270758122744\n",
            "Simulation;Action & Adventure : 0.07897111913357402\n",
            "Parenting;Education : 0.07897111913357402\n",
            "Entertainment;Brain Games : 0.07897111913357402\n",
            "Board;Brain Games : 0.07897111913357402\n",
            "Parenting;Music & Video : 0.06768953068592058\n",
            "Educational;Brain Games : 0.06768953068592058\n",
            "Casual;Creativity : 0.06768953068592058\n",
            "Art & Design;Creativity : 0.06768953068592058\n",
            "Education;Pretend Play : 0.05640794223826715\n",
            "Role Playing;Pretend Play : 0.04512635379061372\n",
            "Education;Creativity : 0.04512635379061372\n",
            "Role Playing;Action & Adventure : 0.03384476534296029\n",
            "Puzzle;Action & Adventure : 0.03384476534296029\n",
            "Entertainment;Creativity : 0.03384476534296029\n",
            "Entertainment;Action & Adventure : 0.03384476534296029\n",
            "Educational;Creativity : 0.03384476534296029\n",
            "Educational;Action & Adventure : 0.03384476534296029\n",
            "Education;Music & Video : 0.03384476534296029\n",
            "Education;Brain Games : 0.03384476534296029\n",
            "Education;Action & Adventure : 0.03384476534296029\n",
            "Adventure;Action & Adventure : 0.03384476534296029\n",
            "Video Players & Editors;Music & Video : 0.02256317689530686\n",
            "Sports;Action & Adventure : 0.02256317689530686\n",
            "Simulation;Pretend Play : 0.02256317689530686\n",
            "Puzzle;Creativity : 0.02256317689530686\n",
            "Music;Music & Video : 0.02256317689530686\n",
            "Entertainment;Pretend Play : 0.02256317689530686\n",
            "Casual;Education : 0.02256317689530686\n",
            "Board;Action & Adventure : 0.02256317689530686\n",
            "Video Players & Editors;Creativity : 0.01128158844765343\n",
            "Trivia;Education : 0.01128158844765343\n",
            "Travel & Local;Action & Adventure : 0.01128158844765343\n",
            "Tools;Education : 0.01128158844765343\n",
            "Strategy;Education : 0.01128158844765343\n",
            "Strategy;Creativity : 0.01128158844765343\n",
            "Strategy;Action & Adventure : 0.01128158844765343\n",
            "Simulation;Education : 0.01128158844765343\n",
            "Role Playing;Brain Games : 0.01128158844765343\n",
            "Racing;Pretend Play : 0.01128158844765343\n",
            "Puzzle;Education : 0.01128158844765343\n",
            "Parenting;Brain Games : 0.01128158844765343\n",
            "Music & Audio;Music & Video : 0.01128158844765343\n",
            "Lifestyle;Pretend Play : 0.01128158844765343\n",
            "Lifestyle;Education : 0.01128158844765343\n",
            "Health & Fitness;Education : 0.01128158844765343\n",
            "Health & Fitness;Action & Adventure : 0.01128158844765343\n",
            "Entertainment;Education : 0.01128158844765343\n",
            "Communication;Creativity : 0.01128158844765343\n",
            "Comics;Creativity : 0.01128158844765343\n",
            "Casual;Music & Video : 0.01128158844765343\n",
            "Card;Action & Adventure : 0.01128158844765343\n",
            "Books & Reference;Education : 0.01128158844765343\n",
            "Art & Design;Pretend Play : 0.01128158844765343\n",
            "Art & Design;Action & Adventure : 0.01128158844765343\n",
            "Arcade;Pretend Play : 0.01128158844765343\n",
            "Adventure;Education : 0.01128158844765343\n",
            "---\n"
          ],
          "name": "stdout"
        }
      ]
    },
    {
      "cell_type": "code",
      "metadata": {
        "id": "8jelt-4hE1HH"
      },
      "source": [
        "ios_genres_ft = freq_table(ios_free_english_apps, 11)"
      ],
      "execution_count": 46,
      "outputs": []
    },
    {
      "cell_type": "code",
      "metadata": {
        "colab": {
          "base_uri": "https://localhost:8080/"
        },
        "id": "LCtZv__8IC2A",
        "outputId": "3146a8dd-7cff-44e8-a93a-9c49d7766bac"
      },
      "source": [
        "ios_apps[0]"
      ],
      "execution_count": 48,
      "outputs": [
        {
          "output_type": "execute_result",
          "data": {
            "text/plain": [
              "['281656475',\n",
              " 'PAC-MAN Premium',\n",
              " '100788224',\n",
              " 'USD',\n",
              " '3.99',\n",
              " '21292',\n",
              " '26',\n",
              " '4',\n",
              " '4.5',\n",
              " '6.3.5',\n",
              " '4+',\n",
              " 'Games',\n",
              " '38',\n",
              " '5',\n",
              " '10',\n",
              " '1']"
            ]
          },
          "metadata": {
            "tags": []
          },
          "execution_count": 48
        }
      ]
    },
    {
      "cell_type": "code",
      "metadata": {
        "colab": {
          "base_uri": "https://localhost:8080/"
        },
        "id": "c87iVclFF_Qc",
        "outputId": "efc09d50-8247-4e01-9b53-2d4d6dc67b28"
      },
      "source": [
        "for genre in ios_genres_ft:\n",
        "  total = 0\n",
        "  len_genre = 0\n",
        "  for app in ios_free_english_apps:\n",
        "    genre_app = app[11]\n",
        "    if genre_app == genre:\n",
        "      ratings = float(app[5])\n",
        "      total += ratings\n",
        "      len_genre += 1\n",
        "  avg_ratings = total/len_genre\n",
        "  print(genre, ':', avg_ratings)"
      ],
      "execution_count": 49,
      "outputs": [
        {
          "output_type": "stream",
          "text": [
            "Productivity : 21028.410714285714\n",
            "Weather : 52279.892857142855\n",
            "Shopping : 26919.690476190477\n",
            "Reference : 74942.11111111111\n",
            "Finance : 31467.944444444445\n",
            "Music : 57326.530303030304\n",
            "Utilities : 18684.456790123455\n",
            "Travel : 28243.8\n",
            "Social Networking : 71548.34905660378\n",
            "Sports : 23008.898550724636\n",
            "Health & Fitness : 23298.015384615384\n",
            "Games : 22788.6696905016\n",
            "Food & Drink : 33333.92307692308\n",
            "News : 21248.023255813954\n",
            "Book : 39758.5\n",
            "Photo & Video : 28441.54375\n",
            "Entertainment : 14029.830708661417\n",
            "Business : 7491.117647058823\n",
            "Lifestyle : 16485.764705882353\n",
            "Education : 7003.983050847458\n",
            "Navigation : 86090.33333333333\n",
            "Medical : 612.0\n",
            "Catalogs : 4004.0\n"
          ],
          "name": "stdout"
        }
      ]
    },
    {
      "cell_type": "code",
      "metadata": {
        "colab": {
          "base_uri": "https://localhost:8080/"
        },
        "id": "5C4oR8taJHsi",
        "outputId": "870d440f-340f-4f1d-ad14-5656f1a0c954"
      },
      "source": [
        "for app in ios_free_english_apps:\n",
        "    genre = app[11]\n",
        "    ratings = app[5]\n",
        "    if genre == 'Navigation':\n",
        "        print(app[1],':',ratings)"
      ],
      "execution_count": 51,
      "outputs": [
        {
          "output_type": "stream",
          "text": [
            "Waze - GPS Navigation, Maps & Real-time Traffic : 345046\n",
            "Geocaching® : 12811\n",
            "ImmobilienScout24: Real Estate Search in Germany : 187\n",
            "Railway Route Search : 5\n",
            "CoPilot GPS – Car Navigation & Offline Maps : 3582\n",
            "Google Maps - Navigation & Transit : 154911\n"
          ],
          "name": "stdout"
        }
      ]
    },
    {
      "cell_type": "code",
      "metadata": {
        "colab": {
          "base_uri": "https://localhost:8080/"
        },
        "id": "_fyv-FXpJT7b",
        "outputId": "e517c4e2-913c-4e88-dd0d-3f44d2dfd168"
      },
      "source": [
        "for app in ios_free_english_apps:\n",
        "    genre = app[11]\n",
        "    ratings = app[5]\n",
        "    if genre == 'Shopping':\n",
        "        print(app[1],':',ratings)"
      ],
      "execution_count": 53,
      "outputs": [
        {
          "output_type": "stream",
          "text": [
            "eBay: Best App to Buy, Sell, Save! Online Shopping : 262241\n",
            "Target : 108131\n",
            "Amazon App: shop, scan, compare, and read reviews : 126312\n",
            "Best Buy : 80424\n",
            "Whole Foods Market : 17906\n",
            "Gilt : 26353\n",
            "Walgreens – Pharmacy, Photo, Coupons and Shopping : 88885\n",
            "Kmart – Download Now, Shop Online & Pick Up Today! : 4186\n",
            "Victoria’s Secret – The Sexiest Bras & Lingerie : 34507\n",
            "Walmart: Free 2-Day Shipping,* Easy Store Shopping : 70286\n",
            "Shop Savvy Barcode Scanner - Price Compare & Deals : 54630\n",
            "Macy's : 11013\n",
            "Groupon - Deals, Coupons & Discount Shopping App : 417779\n",
            "Apple Store : 55171\n",
            "Vestiaire Collective - Pre-Owned Luxury Fashion : 169\n",
            "Sam's Club: Wholesale Shopping & Bulk Buy Deals : 8149\n",
            "eBay Kleinanzeigen - Free. Easy. Local. : 74\n",
            "shopkick - Shopping Rewards & Discounts : 130823\n",
            "Zappos: shop shoes & clothes, fast free shipping : 103655\n",
            "Sephora Makeup & Beauty App – Insider Tips & Style : 15593\n",
            "CVS Pharmacy : 35981\n",
            "Black Friday 2017 Ads App - BlackFriday.fm : 8221\n",
            "Showroomprive - Private Fashion Sales : 11\n",
            "京东 HD : 150\n",
            "AliExpress Shopping App : 10647\n",
            "淘宝HD－Taobao for iPad : 1103\n",
            "ASOS : 9725\n",
            "AEO|Aerie: Jeans, Dresses, Swimsuits & Bralettes : 6408\n",
            "OfferUp - Buy. Sell. Simple. : 57348\n",
            "Poshmark: Buy & Sell Fashion : 18035\n",
            "Kohl's App: Scan, Shop, Pay and Save! : 7174\n",
            "Etsy: Shop Handmade, Vintage & Creative Goods : 30434\n",
            "Gumtree Classifieds: Buy & Sell - Local for Sale : 72\n",
            "Depop - Buy, Sell and Share : 2478\n",
            "RetailMeNot Shopping Deals, Coupons, Savings : 18544\n",
            "Fuel Rewards® program : 2249\n",
            "Wish - Shopping Made Fun : 141960\n",
            "Shopular Coupons, Weekly Deals for Target, Walmart : 22729\n",
            "ZARA : 2731\n",
            "Kirkland's Spin to Win : 177\n",
            "Shpock Boot Sale & Classifieds App. Buy & Sell : 212\n",
            "Inkly: Greeting Cards, Postcards, Flowers & Gifts : 1034\n",
            "Ibotta: Cash Back App, Grocery Coupons & Shopping : 44313\n",
            "minne - shopping handmade item : 8\n",
            "Checkout 51: Grocery Coupons & Cash Back Savings : 4878\n",
            "H&M : 687\n",
            "天猫HD : 198\n",
            "UNiDAYS: Student Discounts for Shopping Top Brands : 53\n",
            "CVS : 12402\n",
            "Cartwheel by Target : 14682\n",
            "Retale - Coupons, Weekly Ads & Stores Nearby : 4861\n",
            "JD Sports : 18\n",
            "Ebates: Cash Back, Coupons & Rebate Shopping App : 12617\n",
            "Flipp - Weekly Ads, Shopping List, and Coupons : 6677\n",
            "WEAR - Fashion Lookbook : 66\n",
            "Red－shop the world : 768\n",
            "Wayfair - Shop Furniture, Home Decor, Daily Sales : 12578\n",
            "Missguided : 113\n",
            "SHEIN Shopping - Women's Clothing & Fashion : 12663\n",
            "Mercari: Shopping Marketplace to Buy & Sell Stuff : 24244\n",
            "vente-privee : 0\n",
            "My College Bookstore : 225\n",
            "Close5 - Buy & Sell Stuff Locally : 5010\n",
            "SNKRS : 12298\n",
            "5miles: Buy and Sell Used Stuff Locally : 16105\n",
            "DaWanda - The marketplace for unique products : 0\n",
            "JCPenney : 1661\n",
            "The Clymb — Gear Deals : 104\n",
            "Foot Locker : 2477\n",
            "Amazon Prime Now : 895\n",
            "Jet: Online Shopping Deals & Bulk Wholesale Prices : 9006\n",
            "GOAT: Buy & Sell Sneakers : 3116\n",
            "letgo: Buy & Sell Second Hand Stuff : 38424\n",
            "Honest App: Shop baby & diaper products : 3173\n",
            "boohoo.com : 655\n",
            "Sam’s Club Scan & Go : 5448\n",
            "Footaction : 364\n",
            "Romwe shopping- Fashion Clothing for women : 8558\n",
            "UA Shop by Under Armour : 741\n",
            "Nike+ : 5464\n",
            "KIXIFY - Buy & Sell Sneakers : 1735\n",
            "Lush Cosmetics : 164\n",
            "OVO Store : 95\n",
            "gogogo : 0\n"
          ],
          "name": "stdout"
        }
      ]
    },
    {
      "cell_type": "code",
      "metadata": {
        "colab": {
          "base_uri": "https://localhost:8080/",
          "height": 163
        },
        "id": "XV6MUwSjJe2n",
        "outputId": "72878266-b903-4aae-9a3b-2f93535fbaf6"
      },
      "source": [
        "print(display_table(free_english_android_apps,5))"
      ],
      "execution_count": 54,
      "outputs": [
        {
          "output_type": "error",
          "ename": "NameError",
          "evalue": "ignored",
          "traceback": [
            "\u001b[0;31m---------------------------------------------------------------------------\u001b[0m",
            "\u001b[0;31mNameError\u001b[0m                                 Traceback (most recent call last)",
            "\u001b[0;32m<ipython-input-54-637f1573cbf8>\u001b[0m in \u001b[0;36m<module>\u001b[0;34m()\u001b[0m\n\u001b[0;32m----> 1\u001b[0;31m \u001b[0mprint\u001b[0m\u001b[0;34m(\u001b[0m\u001b[0mdisplay_table\u001b[0m\u001b[0;34m(\u001b[0m\u001b[0mfree_english_android_apps\u001b[0m\u001b[0;34m,\u001b[0m\u001b[0;36m5\u001b[0m\u001b[0;34m)\u001b[0m\u001b[0;34m)\u001b[0m\u001b[0;34m\u001b[0m\u001b[0;34m\u001b[0m\u001b[0m\n\u001b[0m",
            "\u001b[0;31mNameError\u001b[0m: name 'free_english_android_apps' is not defined"
          ]
        }
      ]
    },
    {
      "cell_type": "code",
      "metadata": {
        "colab": {
          "base_uri": "https://localhost:8080/",
          "height": 392
        },
        "id": "WbOomVKcJtMt",
        "outputId": "61a8590d-441d-4efd-fb25-d12136c68540"
      },
      "source": [
        "display_table(google_free_english_apps, 5)"
      ],
      "execution_count": 55,
      "outputs": [
        {
          "output_type": "stream",
          "text": [
            "1,000,000+ : 15.726534296029072\n",
            "100,000+ : 11.552346570397244\n",
            "10,000,000+ : 10.548285198556075\n",
            "10,000+ : 10.198555956678813\n",
            "1,000+ : 8.393501805054239\n",
            "100+ : 6.915613718411619\n",
            "5,000,000+ : 6.82536101083039\n",
            "500,000+ : 5.561823104693188\n",
            "50,000+ : 4.772111913357437\n",
            "5,000+ : 4.512635379061404\n",
            "10+ : 3.5424187725631953\n",
            "500+ : 3.249097472924202\n",
            "50,000,000+ : 2.3014440433213004\n",
            "100,000,000+ : 2.1322202166064965\n",
            "50+ : 1.9178700361010799\n",
            "5+ : 0.7897111913357411\n",
            "1+ : 0.5076714801444041\n",
            "500,000,000+ : 0.2707581227436822\n",
            "1,000,000,000+ : 0.22563176895306852\n",
            "0+ : 0.04512635379061372\n",
            "0 : 0.01128158844765343\n"
          ],
          "name": "stdout"
        },
        {
          "output_type": "execute_result",
          "data": {
            "application/vnd.google.colaboratory.intrinsic+json": {
              "type": "string"
            },
            "text/plain": [
              "'---'"
            ]
          },
          "metadata": {
            "tags": []
          },
          "execution_count": 55
        }
      ]
    },
    {
      "cell_type": "code",
      "metadata": {
        "id": "igFIyWaSJz4V"
      },
      "source": [
        "android_genres_ft = freq_table(google_free_english_apps,1)"
      ],
      "execution_count": 59,
      "outputs": []
    },
    {
      "cell_type": "code",
      "metadata": {
        "colab": {
          "base_uri": "https://localhost:8080/"
        },
        "id": "86-6OsAxLJtv",
        "outputId": "0e3d79dd-16ff-4be4-dab8-bb2d2148a2a7"
      },
      "source": [
        "google_free_english_apps[0]"
      ],
      "execution_count": 61,
      "outputs": [
        {
          "output_type": "execute_result",
          "data": {
            "text/plain": [
              "['Photo Editor & Candy Camera & Grid & ScrapBook',\n",
              " 'ART_AND_DESIGN',\n",
              " '4.1',\n",
              " '159',\n",
              " '19M',\n",
              " '10,000+',\n",
              " 'Free',\n",
              " '0',\n",
              " 'Everyone',\n",
              " 'Art & Design',\n",
              " 'January 7, 2018',\n",
              " '1.0.0',\n",
              " '4.0.3 and up']"
            ]
          },
          "metadata": {
            "tags": []
          },
          "execution_count": 61
        }
      ]
    },
    {
      "cell_type": "code",
      "metadata": {
        "colab": {
          "base_uri": "https://localhost:8080/"
        },
        "id": "VE60pkbALka_",
        "outputId": "63d040cb-43d7-4850-b5a4-9d381e04e525"
      },
      "source": [
        "google_apps_header"
      ],
      "execution_count": 62,
      "outputs": [
        {
          "output_type": "execute_result",
          "data": {
            "text/plain": [
              "['App',\n",
              " 'Category',\n",
              " 'Rating',\n",
              " 'Reviews',\n",
              " 'Size',\n",
              " 'Installs',\n",
              " 'Type',\n",
              " 'Price',\n",
              " 'Content Rating',\n",
              " 'Genres',\n",
              " 'Last Updated',\n",
              " 'Current Ver',\n",
              " 'Android Ver']"
            ]
          },
          "metadata": {
            "tags": []
          },
          "execution_count": 62
        }
      ]
    },
    {
      "cell_type": "code",
      "metadata": {
        "colab": {
          "base_uri": "https://localhost:8080/"
        },
        "id": "jNdyVp6tLnKt",
        "outputId": "adeee2d5-f9bc-4579-d8c9-d192baa775b9"
      },
      "source": [
        "for category in android_genres_ft:\n",
        "  total = 0\n",
        "  len_category = 0\n",
        "  for app in google_free_english_apps:\n",
        "    app_category = app[1]\n",
        "    if app_category == category:\n",
        "      installs = app[5]\n",
        "      installs = installs.replace(',', '')\n",
        "      installs = installs.replace('+', '')\n",
        "      installs = float(installs)\n",
        "      total += installs\n",
        "      len_category += 1\n",
        "  avg_category = total/len_category\n",
        "  print(category, ':', avg_category)"
      ],
      "execution_count": 65,
      "outputs": [
        {
          "output_type": "stream",
          "text": [
            "ART_AND_DESIGN : 1986335.0877192982\n",
            "AUTO_AND_VEHICLES : 647317.8170731707\n",
            "BEAUTY : 513151.88679245283\n",
            "BOOKS_AND_REFERENCE : 8767811.894736841\n",
            "BUSINESS : 1712290.1474201474\n",
            "COMICS : 817657.2727272727\n",
            "COMMUNICATION : 38456119.167247385\n",
            "DATING : 854028.8303030303\n",
            "EDUCATION : 1833495.145631068\n",
            "ENTERTAINMENT : 11640705.88235294\n",
            "EVENTS : 253542.22222222222\n",
            "FINANCE : 1387692.475609756\n",
            "FOOD_AND_DRINK : 1924897.7363636363\n",
            "HEALTH_AND_FITNESS : 4188821.9853479853\n",
            "HOUSE_AND_HOME : 1331540.5616438356\n",
            "LIBRARIES_AND_DEMO : 638503.734939759\n",
            "LIFESTYLE : 1437816.2687861272\n",
            "GAME : 15588015.603248259\n",
            "FAMILY : 3695641.8198090694\n",
            "MEDICAL : 120550.61980830671\n",
            "SOCIAL : 23253652.127118643\n",
            "SHOPPING : 7036877.311557789\n",
            "PHOTOGRAPHY : 17840110.40229885\n",
            "SPORTS : 3638640.1428571427\n",
            "TRAVEL_AND_LOCAL : 13984077.710144928\n",
            "TOOLS : 10801391.298666667\n",
            "PERSONALIZATION : 5201482.6122448975\n",
            "PRODUCTIVITY : 16787331.344927534\n",
            "PARENTING : 542603.6206896552\n",
            "WEATHER : 5074486.197183099\n",
            "VIDEO_PLAYERS : 24727872.452830188\n",
            "NEWS_AND_MAGAZINES : 9549178.467741935\n",
            "MAPS_AND_NAVIGATION : 4056941.7741935486\n"
          ],
          "name": "stdout"
        }
      ]
    },
    {
      "cell_type": "code",
      "metadata": {
        "colab": {
          "base_uri": "https://localhost:8080/"
        },
        "id": "cGaCzouGNmWE",
        "outputId": "127da7d4-ed56-4951-d56b-1b9d07ddda1c"
      },
      "source": [
        "for app in google_free_english_apps:\n",
        "  if app[1] == 'COMMUNICATION' and (app[5] == '1,000,000,000+'\n",
        "                                      or app[5] == '500,000,000+'\n",
        "                                      or app[5] == '100,000,000+'):\n",
        "        print(app[0], ':', app[5])"
      ],
      "execution_count": 66,
      "outputs": [
        {
          "output_type": "stream",
          "text": [
            "WhatsApp Messenger : 1,000,000,000+\n",
            "imo beta free calls and text : 100,000,000+\n",
            "Android Messages : 100,000,000+\n",
            "Google Duo - High Quality Video Calls : 500,000,000+\n",
            "Messenger – Text and Video Chat for Free : 1,000,000,000+\n",
            "imo free video calls and chat : 500,000,000+\n",
            "Skype - free IM & video calls : 1,000,000,000+\n",
            "Who : 100,000,000+\n",
            "GO SMS Pro - Messenger, Free Themes, Emoji : 100,000,000+\n",
            "LINE: Free Calls & Messages : 500,000,000+\n",
            "Google Chrome: Fast & Secure : 1,000,000,000+\n",
            "Firefox Browser fast & private : 100,000,000+\n",
            "UC Browser - Fast Download Private & Secure : 500,000,000+\n",
            "Gmail : 1,000,000,000+\n",
            "Hangouts : 1,000,000,000+\n",
            "Messenger Lite: Free Calls & Messages : 100,000,000+\n",
            "Kik : 100,000,000+\n",
            "KakaoTalk: Free Calls & Text : 100,000,000+\n",
            "Opera Mini - fast web browser : 100,000,000+\n",
            "Opera Browser: Fast and Secure : 100,000,000+\n",
            "Telegram : 100,000,000+\n",
            "Truecaller: Caller ID, SMS spam blocking & Dialer : 100,000,000+\n",
            "UC Browser Mini -Tiny Fast Private & Secure : 100,000,000+\n",
            "Viber Messenger : 500,000,000+\n",
            "WeChat : 100,000,000+\n",
            "Yahoo Mail – Stay Organized : 100,000,000+\n",
            "BBM - Free Calls & Messages : 100,000,000+\n"
          ],
          "name": "stdout"
        }
      ]
    },
    {
      "cell_type": "code",
      "metadata": {
        "colab": {
          "base_uri": "https://localhost:8080/"
        },
        "id": "5xv3m2mkN2we",
        "outputId": "d0929638-272e-4044-8c8e-6e51c5304153"
      },
      "source": [
        "under_100_m = []\n",
        "\n",
        "for app in google_free_english_apps:\n",
        "    n_installs = app[5]\n",
        "    n_installs = n_installs.replace(',', '')\n",
        "    n_installs = n_installs.replace('+', '')\n",
        "    if (app[1] == 'COMMUNICATION') and (float(n_installs) < 100000000):\n",
        "        under_100_m.append(float(n_installs))\n",
        "        \n",
        "sum(under_100_m) / len(under_100_m)"
      ],
      "execution_count": 67,
      "outputs": [
        {
          "output_type": "execute_result",
          "data": {
            "text/plain": [
              "3603485.3884615386"
            ]
          },
          "metadata": {
            "tags": []
          },
          "execution_count": 67
        }
      ]
    },
    {
      "cell_type": "code",
      "metadata": {
        "colab": {
          "base_uri": "https://localhost:8080/"
        },
        "id": "naLbVZm6OBSm",
        "outputId": "1baea921-9f18-4154-c052-2f5d75f7f1d2"
      },
      "source": [
        "for app in google_free_english_apps:\n",
        "    if app[1] == 'SHOPPING':\n",
        "        print(app[0], ':', app[5])"
      ],
      "execution_count": 68,
      "outputs": [
        {
          "output_type": "stream",
          "text": [
            "Amazon for Tablets : 10,000,000+\n",
            "OfferUp - Buy. Sell. Offer Up : 10,000,000+\n",
            "Shopee - No. 1 Online Shopping : 10,000,000+\n",
            "Shopee: No.1 Online Shopping : 10,000,000+\n",
            "Kroger : 5,000,000+\n",
            "Walmart : 10,000,000+\n",
            "eBay: Buy & Sell this Summer - Discover Deals Now! : 100,000,000+\n",
            "letgo: Buy & Sell Used Stuff, Cars & Real Estate : 50,000,000+\n",
            "Amazon Shopping : 100,000,000+\n",
            "Lazada - Online Shopping & Deals : 50,000,000+\n",
            "OLX - Buy and Sell : 50,000,000+\n",
            "The wall : 1,000,000+\n",
            "Flipp - Weekly Shopping : 10,000,000+\n",
            "Shrimp skin shopping: spend less, buy better : 5,000,000+\n",
            "Lotte Home Shopping LOTTE Homeshopping : 5,000,000+\n",
            "Horn, free country requirements : 1,000,000+\n",
            "Jiji.ng : 1,000,000+\n",
            "GS SHOP : 10,000,000+\n",
            "The birth : 50,000,000+\n",
            "Home & Shopping - Only in apps. 10% off + 10% off : 10,000,000+\n",
            "EHS Dongsen Shopping : 1,000,000+\n",
            "bigbasket - online grocery : 5,000,000+\n",
            "Bukalapak - Buy and Sell Online : 10,000,000+\n",
            "Life market : 1,000,000+\n",
            "Jabong Online Shopping App : 10,000,000+\n",
            "Family Dollar : 1,000,000+\n",
            "Jumia online shopping : 10,000,000+\n",
            "Mercado Libre: Find your favorite brands : 50,000,000+\n",
            "Carousell: Snap-Sell, Chat-Buy : 10,000,000+\n",
            "Blibli.com Online Shopping : 10,000,000+\n",
            "Club Factory Everything, Unbeaten Price : 10,000,000+\n",
            "Real Estate, Car, Shopping and Others : 10,000,000+\n",
            "ZALORA Fashion Shopping : 10,000,000+\n",
            "Magazine Luiza Online Shopping : 10,000,000+\n",
            "ROMWE - Women's Fashion : 10,000,000+\n",
            "Buscapé - Offers and discounts : 10,000,000+\n",
            "Myntra Online Shopping App : 50,000,000+\n",
            "11st : 10,000,000+\n",
            "Coupang : 10,000,000+\n",
            "Wemep - Special price representative (special / shopping / shopping app / coupon / shipping) : 10,000,000+\n",
            "Target - now with Cartwheel : 10,000,000+\n",
            "Flipkart Online Shopping App : 100,000,000+\n",
            "Sam's Club: Wholesale Shopping & Instant Savings : 5,000,000+\n",
            "Chilindo : 1,000,000+\n",
            "Rossmann PL : 5,000,000+\n",
            "Jingdong - pick good things, go to Jingdong : 1,000,000+\n",
            "CheckPoints 🏆 Rewards App : 1,000,000+\n",
            "Extreme Coupon Finder : 1,000,000+\n",
            "SnipSnap Coupon App : 1,000,000+\n",
            "Checkout 51: Grocery coupons : 10,000,000+\n",
            "Coupon Sherpa : 500,000+\n",
            "Gyft - Mobile Gift Card Wallet : 500,000+\n",
            "SavingStar - Grocery Coupons : 1,000,000+\n",
            "The Coupons App : 10,000,000+\n",
            "Shopkick: Free Gift Cards, Shop Rewards & Deals : 10,000,000+\n",
            "Key Ring: Cards Coupon & Sales : 1,000,000+\n",
            "Ibotta: Cash Back Savings, Rewards & Coupons App : 10,000,000+\n",
            "RetailMeNot - Coupons, Deals & Discount Shopping : 10,000,000+\n",
            "Kohl's: Scan, Shop, Pay & Save : 5,000,000+\n",
            "Stocard - Rewards Cards Wallet : 10,000,000+\n",
            "Nike : 1,000,000+\n",
            "Poshmark - Buy & Sell Fashion : 10,000,000+\n",
            "Mercari: The Selling App : 10,000,000+\n",
            "Blidz - Hunt Free Deals On Trending Items! : 50,000+\n",
            "Shopular: Coupons, Weekly Ads & Shopping Deals : 1,000,000+\n",
            "LivingSocial - Local Deals : 5,000,000+\n",
            "Coupons.com – Grocery Coupons & Cash Back Savings : 1,000,000+\n",
            "Ebates: Cash Back, Coupons, Rewards & Savings : 1,000,000+\n",
            "FidMe Loyalty Cards & Deals at Grocery Supermarket : 1,000,000+\n",
            "Ratings by Consumer Reports : 100,000+\n",
            "HauteLook : 500,000+\n",
            "Nordstrom : 500,000+\n",
            "Modcloth – Unique Indie Women's Fashion & Style : 500,000+\n",
            "Fancy : 5,000,000+\n",
            "Twice: Buy, Sell Clothing : 100,000+\n",
            "Slice: Package Tracker : 1,000,000+\n",
            "LightInTheBox Online Shopping : 5,000,000+\n",
            "Best Buy : 5,000,000+\n",
            "JackThreads: Men's Shopping : 1,000,000+\n",
            "zulily - Shop Daily Deals in Fashion and Home : 1,000,000+\n",
            "MiniInTheBox Online Shopping : 1,000,000+\n",
            "Zappos – Shoe shopping made simple : 5,000,000+\n",
            "Urban Outfitters : 500,000+\n",
            "Tophatter - 90 Second Auctions : 10,000,000+\n",
            "Shopfully - Weekly Ads & Deals : 10,000,000+\n",
            "Wanelo Shopping : 1,000,000+\n",
            "Etsy: Handmade & Vintage Goods : 10,000,000+\n",
            "Overstock – Home Decor, Furniture Shopping : 1,000,000+\n",
            "Find&Save - Local Shopping : 500,000+\n",
            "Receipt Hog - Receipts to Cash : 1,000,000+\n",
            "ShopSavvy Barcode & QR Scanner : 10,000,000+\n",
            "Savory - Deals,Freebies,Sales : 100,000+\n",
            "AliExpress - Smarter Shopping, Better Living : 100,000,000+\n",
            "Newegg Mobile : 1,000,000+\n",
            "REI – Shop Outdoor Gear : 100,000+\n",
            "The Home Depot : 5,000,000+\n",
            "Wish - Shopping Made Fun : 100,000,000+\n",
            "Boxed Wholesale : 1,000,000+\n",
            "La La-Shop Designer Brands Street : 500,000+\n",
            "ASOS : 10,000,000+\n",
            "CL Mobile - Classifieds for Craigslist : 1,000,000+\n",
            "CIRCLE K : 500,000+\n",
            "SPEED L : 50,000+\n",
            "Shop 'n Save : 100,000+\n",
            "O Shopping : 100,000+\n",
            "R Studio : 5,000+\n",
            "AB Click2Shop : 100,000+\n",
            "AE + Aerie: Jeans, Dresses, Swimsuits & Bralettes : 1,000,000+\n",
            "AE Checkout Plugin : 10,000+\n",
            "Bazar.af : 500+\n",
            "AzadBazar.af : 100+\n",
            "All States Ag Parts : 10,000+\n",
            "AJ RETAILS : 10+\n",
            "AJ Percent Off Calculator : 10,000+\n",
            "AJ Nails Supply : 100+\n",
            "Wayfair - Shop All Things Home : 5,000,000+\n",
            "A-Y Collection : 100+\n",
            "ePazar.bg : 1,000+\n",
            "Remix Second Hand : 100,000+\n",
            "Grabo.bg : 100,000+\n",
            "B&H Photo Video Pro Audio : 1,000,000+\n",
            "BJ's Wholesale Club : 100,000+\n",
            "BJ’s Mobile App : 500,000+\n",
            "BJ's Express Scan : 10,000+\n",
            "BJ Toys : 500+\n",
            "BL Flowers Digital : 100+\n",
            "B&M Stores : 100,000+\n",
            "BM CRM : 5+\n",
            "postit.bm : 500+\n",
            "My College Bookstore : 100,000+\n",
            "Compas BP Store : 10+\n",
            "IKEA Store : 10,000,000+\n",
            "Bar BQ Night Middlesbrough : 100+\n",
            "4-T's Bar-BQ & Catering : 10+\n",
            "GearBest Online Shopping : 5,000,000+\n",
            "BU Bookstore : 1,000+\n",
            "Hilverda De Boer B.V. App : 500+\n",
            "Schulman B.V. : 100+\n",
            "OLX Uganda Sell Buy Cellphones : 100,000+\n",
            "GITZ.bz : 10+\n",
            "BZ Delivery : 500+\n",
            "ePN Cashback AliExpress : 500,000+\n",
            "Save.ca : 100,000+\n",
            "C.B. Shop : 100+\n",
            "tutti.ch - Free Classifieds : 500,000+\n",
            "ricardo.ch : 500,000+\n",
            "Annonces.ci : 1,000+\n",
            "CJ WOW SHOP : 100,000+\n",
            "CJmall : 10,000,000+\n",
            "Calvin Klein – US Store : 50,000+\n",
            "ck-modelcars Shop : 5,000+\n",
            "ck-modelcars-UK Shop : 5,000+\n",
            "CK Multimedia - Gaming Accessories : 500+\n",
            "CL Mobile Pro - Classifieds for Craigslist : 100,000+\n",
            "CL Pro App for Craigslist : 10,000+\n",
            "CL Pro Client for Craigslist : 5,000+\n",
            "Pro App for Craigslist : 500,000+\n",
            "cPro Marketplace: Buy. Sell. Rent. Date. Jobs. : 10,000,000+\n",
            "Postings (Craigslist Search App) : 5,000,000+\n",
            "Foods Co : 10,000+\n",
            "Co-op Connections : 1,000+\n",
            "Dine In CT - Food Delivery : 1,000+\n",
            "Eshopcy.com.cy : 5,000+\n",
            "CY Digital Net : 500+\n",
            "foody Cyprus - online ordering : 10,000+\n",
            "Šmelina .cz inzeráty inzerce : 10,000+\n",
            "Alzashop.com : 500,000+\n",
            "Strava.cz : 100,000+\n",
            "Dollar General - Digital Coupons, Ads And More : 5,000,000+\n",
            "DG Coupon : 100,000+\n",
            "DG - Digital Coupons - Free Coupon and Discount : 10,000+\n",
            "Krazy Coupon Lady : 1,000,000+\n",
            "Go Go Coupons - Free Coupon and Discount : 1,000+\n",
            "Sharaf DG : 500,000+\n",
            "Coupon Mob - Discount Coupons : 100+\n",
            "DG OFF - 100% Free Coupons & Deals : 10+\n",
            "DHgate-Shop Wholesale Prices : 5,000,000+\n",
            "Shopee: No.1 Belanja Online : 10,000,000+\n",
            "DM Collection : 100+\n",
            "Find Fast Food : 100,000+\n",
            "DT CLOTHINGS : 10+\n",
            "DT Technologies : 10+\n",
            "DTPay : 1,000+\n",
            "DX : 500,000+\n",
            "DZ Mobile Market : 10,000+\n",
            "DZ PROMOS - Promotions & Sale Alerts in Algeria : 50,000+\n",
            "Ouedkniss : 1,000,000+\n",
            "dekoreko-dz : 500+\n",
            "eBay Kleinanzeigen for Germany : 10,000,000+\n",
            "EP Mobil : 100+\n",
            "Groupon - Shop Deals, Discounts & Coupons : 50,000,000+\n",
            "TattooSupplies.eu : 1,000+\n",
            "efootwear.eu - online store : 100,000+\n",
            "E.W. James & Sons : 500+\n",
            "Tenh Ey : 10+\n",
            "FirstCry Baby & Kids Shopping, Fashion & Parenting : 5,000,000+\n",
            "WICShopper : 500,000+\n",
            "Lalafo Pulsuz Elanlar : 1,000,000+\n",
            "Slickdeals: Coupons & Shopping : 1,000,000+\n"
          ],
          "name": "stdout"
        }
      ]
    },
    {
      "cell_type": "code",
      "metadata": {
        "colab": {
          "base_uri": "https://localhost:8080/"
        },
        "id": "jB47ca3hOIQO",
        "outputId": "1cff8715-48bf-45cf-a125-ec8e33306284"
      },
      "source": [
        "for app in google_free_english_apps:\n",
        "    if app[1] == 'SHOPPING' and (app[5] == '1,000,000,000+'\n",
        "                                            or app[5] == '500,000,000+'\n",
        "                                            or app[5] == '100,000,000+'):\n",
        "        print(app[0], ':', app[5])"
      ],
      "execution_count": 69,
      "outputs": [
        {
          "output_type": "stream",
          "text": [
            "eBay: Buy & Sell this Summer - Discover Deals Now! : 100,000,000+\n",
            "Amazon Shopping : 100,000,000+\n",
            "Flipkart Online Shopping App : 100,000,000+\n",
            "AliExpress - Smarter Shopping, Better Living : 100,000,000+\n",
            "Wish - Shopping Made Fun : 100,000,000+\n"
          ],
          "name": "stdout"
        }
      ]
    },
    {
      "cell_type": "code",
      "metadata": {
        "colab": {
          "base_uri": "https://localhost:8080/"
        },
        "id": "XlMbGcmPOO-o",
        "outputId": "4cedf688-1e4f-4d92-b73a-68697ec4d014"
      },
      "source": [
        "for app in google_free_english_apps:\n",
        "    if app[1] == 'SHOPPING' and (app[5] == '1,000,000+'\n",
        "                                            or app[5] == '5,000,000+'\n",
        "                                            or app[5] == '10,000,000+'\n",
        "                                            or app[5] == '50,000,000+'):\n",
        "        print(app[0], ':', app[5])"
      ],
      "execution_count": 70,
      "outputs": [
        {
          "output_type": "stream",
          "text": [
            "Amazon for Tablets : 10,000,000+\n",
            "OfferUp - Buy. Sell. Offer Up : 10,000,000+\n",
            "Shopee - No. 1 Online Shopping : 10,000,000+\n",
            "Shopee: No.1 Online Shopping : 10,000,000+\n",
            "Kroger : 5,000,000+\n",
            "Walmart : 10,000,000+\n",
            "letgo: Buy & Sell Used Stuff, Cars & Real Estate : 50,000,000+\n",
            "Lazada - Online Shopping & Deals : 50,000,000+\n",
            "OLX - Buy and Sell : 50,000,000+\n",
            "The wall : 1,000,000+\n",
            "Flipp - Weekly Shopping : 10,000,000+\n",
            "Shrimp skin shopping: spend less, buy better : 5,000,000+\n",
            "Lotte Home Shopping LOTTE Homeshopping : 5,000,000+\n",
            "Horn, free country requirements : 1,000,000+\n",
            "Jiji.ng : 1,000,000+\n",
            "GS SHOP : 10,000,000+\n",
            "The birth : 50,000,000+\n",
            "Home & Shopping - Only in apps. 10% off + 10% off : 10,000,000+\n",
            "EHS Dongsen Shopping : 1,000,000+\n",
            "bigbasket - online grocery : 5,000,000+\n",
            "Bukalapak - Buy and Sell Online : 10,000,000+\n",
            "Life market : 1,000,000+\n",
            "Jabong Online Shopping App : 10,000,000+\n",
            "Family Dollar : 1,000,000+\n",
            "Jumia online shopping : 10,000,000+\n",
            "Mercado Libre: Find your favorite brands : 50,000,000+\n",
            "Carousell: Snap-Sell, Chat-Buy : 10,000,000+\n",
            "Blibli.com Online Shopping : 10,000,000+\n",
            "Club Factory Everything, Unbeaten Price : 10,000,000+\n",
            "Real Estate, Car, Shopping and Others : 10,000,000+\n",
            "ZALORA Fashion Shopping : 10,000,000+\n",
            "Magazine Luiza Online Shopping : 10,000,000+\n",
            "ROMWE - Women's Fashion : 10,000,000+\n",
            "Buscapé - Offers and discounts : 10,000,000+\n",
            "Myntra Online Shopping App : 50,000,000+\n",
            "11st : 10,000,000+\n",
            "Coupang : 10,000,000+\n",
            "Wemep - Special price representative (special / shopping / shopping app / coupon / shipping) : 10,000,000+\n",
            "Target - now with Cartwheel : 10,000,000+\n",
            "Sam's Club: Wholesale Shopping & Instant Savings : 5,000,000+\n",
            "Chilindo : 1,000,000+\n",
            "Rossmann PL : 5,000,000+\n",
            "Jingdong - pick good things, go to Jingdong : 1,000,000+\n",
            "CheckPoints 🏆 Rewards App : 1,000,000+\n",
            "Extreme Coupon Finder : 1,000,000+\n",
            "SnipSnap Coupon App : 1,000,000+\n",
            "Checkout 51: Grocery coupons : 10,000,000+\n",
            "SavingStar - Grocery Coupons : 1,000,000+\n",
            "The Coupons App : 10,000,000+\n",
            "Shopkick: Free Gift Cards, Shop Rewards & Deals : 10,000,000+\n",
            "Key Ring: Cards Coupon & Sales : 1,000,000+\n",
            "Ibotta: Cash Back Savings, Rewards & Coupons App : 10,000,000+\n",
            "RetailMeNot - Coupons, Deals & Discount Shopping : 10,000,000+\n",
            "Kohl's: Scan, Shop, Pay & Save : 5,000,000+\n",
            "Stocard - Rewards Cards Wallet : 10,000,000+\n",
            "Nike : 1,000,000+\n",
            "Poshmark - Buy & Sell Fashion : 10,000,000+\n",
            "Mercari: The Selling App : 10,000,000+\n",
            "Shopular: Coupons, Weekly Ads & Shopping Deals : 1,000,000+\n",
            "LivingSocial - Local Deals : 5,000,000+\n",
            "Coupons.com – Grocery Coupons & Cash Back Savings : 1,000,000+\n",
            "Ebates: Cash Back, Coupons, Rewards & Savings : 1,000,000+\n",
            "FidMe Loyalty Cards & Deals at Grocery Supermarket : 1,000,000+\n",
            "Fancy : 5,000,000+\n",
            "Slice: Package Tracker : 1,000,000+\n",
            "LightInTheBox Online Shopping : 5,000,000+\n",
            "Best Buy : 5,000,000+\n",
            "JackThreads: Men's Shopping : 1,000,000+\n",
            "zulily - Shop Daily Deals in Fashion and Home : 1,000,000+\n",
            "MiniInTheBox Online Shopping : 1,000,000+\n",
            "Zappos – Shoe shopping made simple : 5,000,000+\n",
            "Tophatter - 90 Second Auctions : 10,000,000+\n",
            "Shopfully - Weekly Ads & Deals : 10,000,000+\n",
            "Wanelo Shopping : 1,000,000+\n",
            "Etsy: Handmade & Vintage Goods : 10,000,000+\n",
            "Overstock – Home Decor, Furniture Shopping : 1,000,000+\n",
            "Receipt Hog - Receipts to Cash : 1,000,000+\n",
            "ShopSavvy Barcode & QR Scanner : 10,000,000+\n",
            "Newegg Mobile : 1,000,000+\n",
            "The Home Depot : 5,000,000+\n",
            "Boxed Wholesale : 1,000,000+\n",
            "ASOS : 10,000,000+\n",
            "CL Mobile - Classifieds for Craigslist : 1,000,000+\n",
            "AE + Aerie: Jeans, Dresses, Swimsuits & Bralettes : 1,000,000+\n",
            "Wayfair - Shop All Things Home : 5,000,000+\n",
            "B&H Photo Video Pro Audio : 1,000,000+\n",
            "IKEA Store : 10,000,000+\n",
            "GearBest Online Shopping : 5,000,000+\n",
            "CJmall : 10,000,000+\n",
            "cPro Marketplace: Buy. Sell. Rent. Date. Jobs. : 10,000,000+\n",
            "Postings (Craigslist Search App) : 5,000,000+\n",
            "Dollar General - Digital Coupons, Ads And More : 5,000,000+\n",
            "Krazy Coupon Lady : 1,000,000+\n",
            "DHgate-Shop Wholesale Prices : 5,000,000+\n",
            "Shopee: No.1 Belanja Online : 10,000,000+\n",
            "Ouedkniss : 1,000,000+\n",
            "eBay Kleinanzeigen for Germany : 10,000,000+\n",
            "Groupon - Shop Deals, Discounts & Coupons : 50,000,000+\n",
            "FirstCry Baby & Kids Shopping, Fashion & Parenting : 5,000,000+\n",
            "Lalafo Pulsuz Elanlar : 1,000,000+\n",
            "Slickdeals: Coupons & Shopping : 1,000,000+\n"
          ],
          "name": "stdout"
        }
      ]
    }
  ]
}